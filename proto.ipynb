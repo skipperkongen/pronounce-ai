{
 "cells": [
  {
   "cell_type": "code",
   "execution_count": 50,
   "metadata": {},
   "outputs": [
    {
     "name": "stdout",
     "output_type": "stream",
     "text": [
      "please select language (dk, us): us\n"
     ]
    },
    {
     "data": {
      "text/plain": [
       "0"
      ]
     },
     "execution_count": 50,
     "metadata": {},
     "output_type": "execute_result"
    }
   ],
   "source": [
    "import subprocess\n",
    "import speech_recognition as sr\n",
    "import nltk\n",
    "from nltk import sent_tokenize\n",
    "import random\n",
    "import editdistance\n",
    "\n",
    "#nltk.download('punkt')\n",
    "#nltk.download('gutenberg')\n",
    "#print(nltk.corpus.gutenberg.fileids())\n",
    "\n",
    "GUTENBERG_ID = 'austen-emma.txt'\n",
    "LANG = {\n",
    "    'dk': {'code': 'DA-dk', 'voice': 'Sara'},\n",
    "    'us': {'code': 'EN-us', 'voice': 'Alex'}\n",
    "}\n",
    "\n",
    "sentences = nltk.corpus.gutenberg.sents(GUTENBERG_ID)\n",
    "lang = None\n",
    "\n",
    "while lang is None:\n",
    "    options = \", \".join([key for key in LANG.keys()])\n",
    "    choice = input('please select language ({}): '.format(options))\n",
    "    lang = LANG.get(choice)\n",
    "\n",
    "subprocess.call(['say', '-v', lang['voice'], 'thank you'])"
   ]
  },
  {
   "cell_type": "code",
   "execution_count": 55,
   "metadata": {},
   "outputs": [
    {
     "name": "stdout",
     "output_type": "stream",
     "text": [
      "Repeat after me...\n",
      "\n",
      "THE DIFFERENCE OF HARRIET AT MRS  GODDARD  S\n",
      "(start talking)\n",
      "Keep practicing.\n",
      "You said: the difference of Mrs Harriet and Mrs Carter s\n",
      "Repeat after me...\n",
      "\n",
      "PUT IT UP  PUT IT UP  WE WILL\n",
      "(start talking)\n",
      "Perfect!\n",
      "You said: put it up put it up we will\n",
      "Repeat after me...\n",
      "\n",
      "THEY HAD NOT INTENDED TO GO OVER TILL THE SUMMER\n",
      "(start talking)\n",
      "Perfect!\n",
      "You said: they had not intended to go over till the summer\n",
      "You scored 66%\n"
     ]
    }
   ],
   "source": [
    "r = sr.Recognizer()\n",
    "QUESTIONS = 3\n",
    "score = 0\n",
    "def say(message):\n",
    "    subprocess.call(['say', '-v', lang['voice'], \"'{}'\".format(message)])\n",
    "\n",
    "    \n",
    "for i in range(QUESTIONS):\n",
    "    sentence = random.choice(sentences)[:10]\n",
    "    sentence = \" \".join(sentence)\n",
    "    sentence =  ''.join([i for i in sentence if i.isalpha() or i == ' '])\n",
    "    print('Repeat after me...')\n",
    "    say('Repeat after me')\n",
    "    print()\n",
    "    print(sentence.upper())\n",
    "    say(sentence)\n",
    "    with sr.Microphone() as source:\n",
    "        r.adjust_for_ambient_noise(source)\n",
    "        print('(start talking)')\n",
    "        audio = r.listen(source)\n",
    "        spoken = r.recognize_google(audio, language=lang['code'])\n",
    "        dist = editdistance.eval(sentence, spoken)\n",
    "        if dist < 5:\n",
    "            score += 2\n",
    "            message = random.choice(['Excellent!', 'Perfect!'])\n",
    "        elif dist < 10:\n",
    "            score += 1\n",
    "            message = random.choice(['You did fine.'])\n",
    "        else:\n",
    "            message = random.choice(['OK. Keep going.', 'Keep practicing.'])\n",
    "        say(message)\n",
    "        print(message)\n",
    "        print('You said:', spoken)\n",
    "        print()\n",
    "\n",
    "result = 100 * score / (2 * QUESTIONS)\n",
    "message = 'You scored {}%'.format(int(result))\n",
    "print(message)\n",
    "message = 'You scored {} percent'.format(int(result))\n",
    "say(message)\n"
   ]
  },
  {
   "cell_type": "code",
   "execution_count": null,
   "metadata": {},
   "outputs": [],
   "source": []
  }
 ],
 "metadata": {
  "kernelspec": {
   "display_name": "Python (p3-ai)",
   "language": "python",
   "name": "p3-ai"
  },
  "language_info": {
   "codemirror_mode": {
    "name": "ipython",
    "version": 3
   },
   "file_extension": ".py",
   "mimetype": "text/x-python",
   "name": "python",
   "nbconvert_exporter": "python",
   "pygments_lexer": "ipython3",
   "version": "3.6.5"
  }
 },
 "nbformat": 4,
 "nbformat_minor": 2
}
