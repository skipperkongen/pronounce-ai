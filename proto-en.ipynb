{
 "cells": [
  {
   "cell_type": "code",
   "execution_count": 1,
   "metadata": {},
   "outputs": [],
   "source": [
    "import subprocess\n",
    "import speech_recognition as sr\n",
    "import nltk\n",
    "from nltk import sent_tokenize\n",
    "import random\n",
    "import editdistance\n",
    "import re\n",
    "\n",
    "#nltk.download('punkt')\n",
    "#nltk.download('gutenberg')\n",
    "#print(nltk.corpus.gutenberg.fileids())"
   ]
  },
  {
   "cell_type": "code",
   "execution_count": 16,
   "metadata": {},
   "outputs": [],
   "source": [
    "p1 = re.compile(r\"[^A-Z ']\")\n",
    "p2 = re.compile(r\"''\")\n",
    "p3 = re.compile(r'[ ]+')\n",
    "\n",
    "en_books = [\n",
    "    ('easy', 'bryant-stories.txt'),\n",
    "    ('easy', 'burgess-busterbrown.txt'),\n",
    "    ('medium', 'melville-moby_dick.txt'),\n",
    "    ('hard', 'chesterton-ball.txt'), \n",
    "    ('hard', 'edgeworth-parents.txt'),    \n",
    "]\n",
    "# Also see: https://www.nltk.org/book/ch02.html\n",
    "en_levels = {}\n",
    "\n",
    "def normalize(sent):\n",
    "    sent = ' '.join(sent).replace(\" ' \", \"''\")\n",
    "    sent = sent.upper()\n",
    "    sent = re.sub(p1, '', sent)\n",
    "    sent = re.sub(p2, \"'\", sent)\n",
    "    sent = re.sub(p3, ' ', sent)\n",
    "    return sent.strip()\n",
    "\n",
    "for level, book in en_books:\n",
    "    lst = en_levels.setdefault(level, [])\n",
    "    sents = [normalize(sent) for sent in nltk.corpus.gutenberg.sents(book)[2:]]\n",
    "    lst += list(set([sent for sent in sents if 2 < sent.count(' ') < 10]))"
   ]
  },
  {
   "cell_type": "code",
   "execution_count": 18,
   "metadata": {},
   "outputs": [
    {
     "name": "stdout",
     "output_type": "stream",
     "text": [
      "Please select language (en): en\n",
      "Please select level (easy, medium, hard): medium\n"
     ]
    }
   ],
   "source": [
    "EN_VOICES = ['Alex', 'Victoria', 'Fred', 'Samantha', 'Daniel']\n",
    "\n",
    "LANG = {\n",
    "    'en': {'code': 'EN-us', 'voice': EN_VOICES[0], 'levels': en_levels}\n",
    "}\n",
    "\n",
    "lang = None\n",
    "sentences = None\n",
    "\n",
    "while lang is None:\n",
    "    options = \", \".join([key for key in LANG.keys()])\n",
    "    choice = input('Please select language ({}): '.format(options))\n",
    "    lang = LANG.get(choice)\n",
    "CODE = lang['code']\n",
    "VOICE = lang['voice']\n",
    "\n",
    "while sentences is None:\n",
    "    options = \", \".join([str(key) for key in lang['levels']])\n",
    "    choice = input('Please select level ({}): '.format(options))\n",
    "    sentences = lang['levels'].get(choice)\n",
    "\n",
    "def say(message):\n",
    "    subprocess.call(['say', '-v', VOICE, \"'{}'\".format(message)])\n",
    "\n",
    "say('Let us begin')"
   ]
  },
  {
   "cell_type": "code",
   "execution_count": null,
   "metadata": {},
   "outputs": [
    {
     "name": "stdout",
     "output_type": "stream",
     "text": [
      "Repeat after me...\n",
      "\n",
      "WAS THERE EVER SUCH UNCONSCIOUSNESS\n",
      "(start talking)\n",
      "Excellent!\n",
      "You said: was there ever such unconsciousness\n",
      "\n",
      "Repeat after me...\n",
      "\n",
      "WHAT SOULLESS THING IS THIS THAT LAUGHS BEFORE A WRECK\n",
      "(start talking)\n",
      "OK. Keep going.\n",
      "You said: what soulless thing is this bad last before rack\n",
      "\n",
      "Repeat after me...\n",
      "\n",
      "THE OIL IN THE HOLD IS LEAKING SIR\n",
      "(start talking)\n"
     ]
    }
   ],
   "source": [
    "r = sr.Recognizer()\n",
    "QUESTIONS = 3\n",
    "score = 0\n",
    "\n",
    "    \n",
    "for i in range(QUESTIONS):\n",
    "    sentence = random.choice(sentences)\n",
    "    print('Repeat after me...')\n",
    "    say('Repeat after me')\n",
    "    print()\n",
    "    print(sentence.upper())\n",
    "    say(sentence)\n",
    "    with sr.Microphone() as source:\n",
    "        r.adjust_for_ambient_noise(source)\n",
    "        print('(start talking)')\n",
    "        audio = r.listen(source)\n",
    "        spoken = r.recognize_google(audio, language=lang['code'])\n",
    "        dist = editdistance.eval(sentence, spoken.upper())\n",
    "        if dist < 5:\n",
    "            score += 2\n",
    "            message = random.choice(['Excellent!', 'Perfect!'])\n",
    "        elif dist < 10:\n",
    "            score += 1\n",
    "            message = random.choice(['You did fine.'])\n",
    "        else:\n",
    "            message = random.choice(['OK. Keep going.', 'Keep practicing.'])\n",
    "        say(message)\n",
    "        print(message)\n",
    "        print('You said:', spoken)\n",
    "        print()\n",
    "\n",
    "result = 100 * score / (2 * QUESTIONS)\n",
    "message = 'You scored {}%'.format(int(result))\n",
    "print(message)\n",
    "message = 'You scored {} percent'.format(int(result))\n",
    "say(message)\n"
   ]
  },
  {
   "cell_type": "code",
   "execution_count": null,
   "metadata": {},
   "outputs": [],
   "source": []
  }
 ],
 "metadata": {
  "kernelspec": {
   "display_name": "Python (p3-ai)",
   "language": "python",
   "name": "p3-ai"
  },
  "language_info": {
   "codemirror_mode": {
    "name": "ipython",
    "version": 3
   },
   "file_extension": ".py",
   "mimetype": "text/x-python",
   "name": "python",
   "nbconvert_exporter": "python",
   "pygments_lexer": "ipython3",
   "version": "3.6.5"
  }
 },
 "nbformat": 4,
 "nbformat_minor": 2
}
